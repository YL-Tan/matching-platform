{
 "cells": [
  {
   "cell_type": "code",
   "execution_count": 59,
   "metadata": {},
   "outputs": [],
   "source": [
    "from sklearn.feature_extraction.text import TfidfVectorizer\n",
    "from sklearn.metrics.pairwise import cosine_similarity\n",
    "from faker import Faker\n",
    "import random"
   ]
  },
  {
   "cell_type": "code",
   "execution_count": 60,
   "metadata": {},
   "outputs": [],
   "source": [
    "# Utility functions for feature extraction and similarity calculation\n",
    "\n",
    "def extract_features(projects):\n",
    "    combined_texts = []\n",
    "    for project in projects:\n",
    "        description = project['description'].strip().lower()\n",
    "        category = project['category'].strip().lower()\n",
    "        location = project['location'].strip().lower()\n",
    "        text = f\"{description} {category} {location}\"\n",
    "        combined_texts.append(text)\n",
    "    vectorizer = TfidfVectorizer(stop_words='english')\n",
    "    tfidf_matrix = vectorizer.fit_transform(combined_texts)\n",
    "    return tfidf_matrix, vectorizer\n",
    "\n",
    "def calculate_similarity(tfidf_matrix, user_vector):\n",
    "    return cosine_similarity(tfidf_matrix, user_vector)\n",
    "\n",
    "def create_user_vector(user_preferences, vectorizer):\n",
    "    categories_text = ' '.join(user_preferences['preferred_categories'])\n",
    "    countries_text = ' '.join(user_preferences['preferred_countries'])\n",
    "    combined_preferences = f\"{categories_text} {countries_text}\"\n",
    "    user_vector = vectorizer.transform([combined_preferences])\n",
    "    return user_vector\n"
   ]
  }
 ],
 "metadata": {
  "kernelspec": {
   "display_name": "matchingvenv",
   "language": "python",
   "name": "python3"
  },
  "language_info": {
   "codemirror_mode": {
    "name": "ipython",
    "version": 3
   },
   "file_extension": ".py",
   "mimetype": "text/x-python",
   "name": "python",
   "nbconvert_exporter": "python",
   "pygments_lexer": "ipython3",
   "version": "3.10.12"
  }
 },
 "nbformat": 4,
 "nbformat_minor": 2
}
